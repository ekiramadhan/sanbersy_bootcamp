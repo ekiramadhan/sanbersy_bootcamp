{
 "cells": [
  {
   "cell_type": "markdown",
   "metadata": {},
   "source": [
    "<h2>Quiz 1 : Helper Function</h2>\n",
    "\n",
    "Jawab Pertanyaan di bawah ini :\n",
    "\n",
    "Misalkan kamu ingin mengetahui tentang kegunaan fungsi 'len' di Python, maka fungsi apa yang bisa kamu gunakan untuk menolong kamu?"
   ]
  },
  {
   "cell_type": "code",
   "execution_count": 2,
   "metadata": {},
   "outputs": [
    {
     "name": "stdout",
     "output_type": "stream",
     "text": [
      "Help on built-in function len in module builtins:\n",
      "\n",
      "len(obj, /)\n",
      "    Return the number of items in a container.\n",
      "\n"
     ]
    }
   ],
   "source": [
    "# lengkapi code ini\n",
    "help(len)"
   ]
  },
  {
   "cell_type": "markdown",
   "metadata": {},
   "source": [
    "<h2>Quiz 2 : Built-in Function</h2>\n",
    "\n",
    "Jawab Pertanyaan di bawah ini :\n",
    "    \n",
    "Apa itu built-in Function?\n",
    "\n",
    "Sebutkan 3 built-in Function di pyhon!\n",
    "\n",
    "Berikan contoh masing2 1 cara penggunaan built-in function yang kamu sebutkan sebelumnya"
   ]
  },
  {
   "cell_type": "markdown",
   "metadata": {},
   "source": [
    "//isi jawaban text disini\n"
   ]
  },
  {
   "cell_type": "code",
   "execution_count": 5,
   "metadata": {},
   "outputs": [
    {
     "name": "stdout",
     "output_type": "stream",
     "text": [
      "Help on class list in module builtins:\n",
      "\n",
      "class list(object)\n",
      " |  list(iterable=(), /)\n",
      " |  \n",
      " |  Built-in mutable sequence.\n",
      " |  \n",
      " |  If no argument is given, the constructor creates a new empty list.\n",
      " |  The argument must be an iterable if specified.\n",
      " |  \n",
      " |  Methods defined here:\n",
      " |  \n",
      " |  __add__(self, value, /)\n",
      " |      Return self+value.\n",
      " |  \n",
      " |  __contains__(self, key, /)\n",
      " |      Return key in self.\n",
      " |  \n",
      " |  __delitem__(self, key, /)\n",
      " |      Delete self[key].\n",
      " |  \n",
      " |  __eq__(self, value, /)\n",
      " |      Return self==value.\n",
      " |  \n",
      " |  __ge__(self, value, /)\n",
      " |      Return self>=value.\n",
      " |  \n",
      " |  __getattribute__(self, name, /)\n",
      " |      Return getattr(self, name).\n",
      " |  \n",
      " |  __getitem__(...)\n",
      " |      x.__getitem__(y) <==> x[y]\n",
      " |  \n",
      " |  __gt__(self, value, /)\n",
      " |      Return self>value.\n",
      " |  \n",
      " |  __iadd__(self, value, /)\n",
      " |      Implement self+=value.\n",
      " |  \n",
      " |  __imul__(self, value, /)\n",
      " |      Implement self*=value.\n",
      " |  \n",
      " |  __init__(self, /, *args, **kwargs)\n",
      " |      Initialize self.  See help(type(self)) for accurate signature.\n",
      " |  \n",
      " |  __iter__(self, /)\n",
      " |      Implement iter(self).\n",
      " |  \n",
      " |  __le__(self, value, /)\n",
      " |      Return self<=value.\n",
      " |  \n",
      " |  __len__(self, /)\n",
      " |      Return len(self).\n",
      " |  \n",
      " |  __lt__(self, value, /)\n",
      " |      Return self<value.\n",
      " |  \n",
      " |  __mul__(self, value, /)\n",
      " |      Return self*value.\n",
      " |  \n",
      " |  __ne__(self, value, /)\n",
      " |      Return self!=value.\n",
      " |  \n",
      " |  __repr__(self, /)\n",
      " |      Return repr(self).\n",
      " |  \n",
      " |  __reversed__(self, /)\n",
      " |      Return a reverse iterator over the list.\n",
      " |  \n",
      " |  __rmul__(self, value, /)\n",
      " |      Return value*self.\n",
      " |  \n",
      " |  __setitem__(self, key, value, /)\n",
      " |      Set self[key] to value.\n",
      " |  \n",
      " |  __sizeof__(self, /)\n",
      " |      Return the size of the list in memory, in bytes.\n",
      " |  \n",
      " |  append(self, object, /)\n",
      " |      Append object to the end of the list.\n",
      " |  \n",
      " |  clear(self, /)\n",
      " |      Remove all items from list.\n",
      " |  \n",
      " |  copy(self, /)\n",
      " |      Return a shallow copy of the list.\n",
      " |  \n",
      " |  count(self, value, /)\n",
      " |      Return number of occurrences of value.\n",
      " |  \n",
      " |  extend(self, iterable, /)\n",
      " |      Extend list by appending elements from the iterable.\n",
      " |  \n",
      " |  index(self, value, start=0, stop=9223372036854775807, /)\n",
      " |      Return first index of value.\n",
      " |      \n",
      " |      Raises ValueError if the value is not present.\n",
      " |  \n",
      " |  insert(self, index, object, /)\n",
      " |      Insert object before index.\n",
      " |  \n",
      " |  pop(self, index=-1, /)\n",
      " |      Remove and return item at index (default last).\n",
      " |      \n",
      " |      Raises IndexError if list is empty or index is out of range.\n",
      " |  \n",
      " |  remove(self, value, /)\n",
      " |      Remove first occurrence of value.\n",
      " |      \n",
      " |      Raises ValueError if the value is not present.\n",
      " |  \n",
      " |  reverse(self, /)\n",
      " |      Reverse *IN PLACE*.\n",
      " |  \n",
      " |  sort(self, /, *, key=None, reverse=False)\n",
      " |      Stable sort *IN PLACE*.\n",
      " |  \n",
      " |  ----------------------------------------------------------------------\n",
      " |  Static methods defined here:\n",
      " |  \n",
      " |  __new__(*args, **kwargs) from builtins.type\n",
      " |      Create and return a new object.  See help(type) for accurate signature.\n",
      " |  \n",
      " |  ----------------------------------------------------------------------\n",
      " |  Data and other attributes defined here:\n",
      " |  \n",
      " |  __hash__ = None\n",
      "\n",
      "Hello World\n"
     ]
    }
   ],
   "source": [
    "# Contoh penggunaan built in function\n",
    "\n",
    "# str() int() untuk mengubah type\n",
    "a = str(10) # angka 10 merupakan integer diubah kedalam string (a) = '10'\n",
    "b = int(a) # string '10' diubah ke integer 10\n",
    "\n",
    "# help(x) untuk memunculkan informasi tentang x, fungsinya, tipenya, dll\n",
    "help(list)\n",
    "\n",
    "# print(p) untuk memberikan output 'p'\n",
    "p = 'Hello World'\n",
    "print(p)"
   ]
  },
  {
   "cell_type": "markdown",
   "metadata": {},
   "source": [
    "<h2>Quiz 3 : Method dan Function</h2>\n",
    "\n",
    "Jawab Pertanyaan di bawah ini :\n",
    "    \n",
    "- Apa perbedaan method dan function?"
   ]
  },
  {
   "cell_type": "code",
   "execution_count": null,
   "metadata": {},
   "outputs": [],
   "source": [
    "# method\n",
    "# adalah operasi yang bisa dilakukan untuk mengubah bentuk, menghitung, dll hanya terbatas untuk objek yang telah ditentukan\n",
    "\n",
    "# function\n",
    "# tidak seperti method yang dapat mengubah kondisi suatu objek, function dapat bekerja secara universal untuk objek apapun yang menjadi inputnya.\n",
    "\n",
    "# singkatnya method hanya bisa bekerja apabila objeknya sudah ada sedangkan function tidak"
   ]
  },
  {
   "cell_type": "markdown",
   "metadata": {},
   "source": [
    "<h2>Quiz 4 : Menggunkan Method String</h2>\n",
    "\n",
    "Lengkapi kode untuk menghasilkan suatu output yang di harapkan"
   ]
  },
  {
   "cell_type": "code",
   "execution_count": 7,
   "metadata": {},
   "outputs": [
    {
     "name": "stdout",
     "output_type": "stream",
     "text": [
      "CORONA CEPAT SELESAI\n",
      "3\n"
     ]
    }
   ],
   "source": [
    "kalimat = \"Corona cepat selesai\"\n",
    "\n",
    "# gunakan method untuk mengubah nilai kalimat menjadi uppercase semua kemudian tampilkan hasilnya\n",
    "print(kalimat.upper())\n",
    "\n",
    "# gunakan method untuk menghitung berapa huruf e di dalam kalimat\n",
    "print(kalimat.count('e'))"
   ]
  },
  {
   "cell_type": "markdown",
   "metadata": {},
   "source": [
    "Expected Output :\n",
    "\n",
    "CORONA CEPAT SELESAI\n",
    "\n",
    "3"
   ]
  },
  {
   "cell_type": "markdown",
   "metadata": {},
   "source": [
    "<h2>Quiz 5 : Menggunkan Method List</h2>\n",
    "\n",
    "Lengkapi kode untuk menghasilkan suatu output yang di harapkan"
   ]
  },
  {
   "cell_type": "code",
   "execution_count": 9,
   "metadata": {},
   "outputs": [
    {
     "name": "stdout",
     "output_type": "stream",
     "text": [
      "2\n",
      "[11.25, 18.0, 20.0, 10.75, 9.5, 15.5]\n"
     ]
    }
   ],
   "source": [
    "areas = [11.25, 18.0, 20.0, 10.75, 9.50]\n",
    "\n",
    "# gunakan suatu method dari object list untuk menampilkan index dari nilai 20\n",
    "print(areas.index(20.0))\n",
    "\n",
    "# gunakan suatu method dari object list untuk menambahkan nilai 15.5 kedalam list ke index terakhirnya\n",
    "areas.append(15.5)\n",
    "print(areas)"
   ]
  },
  {
   "cell_type": "markdown",
   "metadata": {},
   "source": [
    "Expected Output :\n",
    "\n",
    "2\n",
    "\n",
    "[11.25, 18.0, 20.0, 10.75, 9.50, 15.5]"
   ]
  },
  {
   "cell_type": "markdown",
   "metadata": {},
   "source": [
    "<h2>Quiz 6 : Membuat Simple Function</h2>\n",
    "\n",
    "Buatlah suatu fungsi yang menerima satu input argumen berbentuk list dan mempunyai elemen bertipe numeric semua, dimana fungsi tersebut berguna untuk menghitung rata2 dari kumpulan elemen list tersebut. namai fungsi tersebut 'mean_list'"
   ]
  },
  {
   "cell_type": "code",
   "execution_count": 11,
   "metadata": {},
   "outputs": [
    {
     "name": "stdout",
     "output_type": "stream",
     "text": [
      "13.9\n"
     ]
    }
   ],
   "source": [
    "obj_list = [11.25, 18.0, 20.0, 10.75, 9.50]\n",
    "def mean_list(inp_list):\n",
    "    # isikan code\n",
    "    avg = sum(inp_list) / len(inp_list)\n",
    "    return avg\n",
    "print(mean_list(obj_list))"
   ]
  },
  {
   "cell_type": "markdown",
   "metadata": {},
   "source": [
    "Expected Output :\n",
    "\n",
    "13.9"
   ]
  },
  {
   "cell_type": "markdown",
   "metadata": {},
   "source": [
    "<h2>Quiz 7 : Membuat Function dengan Multiple arguments</h2>\n",
    "\n",
    "Buatlah suatu fungsi untuk melakukan penggabungan antara dua list"
   ]
  },
  {
   "cell_type": "code",
   "execution_count": 12,
   "metadata": {},
   "outputs": [
    {
     "name": "stdout",
     "output_type": "stream",
     "text": [
      "[2, 4, 5, 6, 1, 2, 3]\n"
     ]
    }
   ],
   "source": [
    "obj_list = [2, 4, 5, 6]\n",
    "obj_pengali = [1, 2, 3]\n",
    "def kali_list(obj_list, obj_pengali):\n",
    "    # isikan kode\n",
    "    gabung = obj_list + obj_pengali\n",
    "    return gabung\n",
    "    \n",
    "print(kali_list(obj_list, obj_pengali))"
   ]
  },
  {
   "cell_type": "markdown",
   "metadata": {},
   "source": [
    "Expected Output :\n",
    "\n",
    "[2, 4, 5, 6, 1, 2, 3]"
   ]
  },
  {
   "cell_type": "code",
   "execution_count": null,
   "metadata": {},
   "outputs": [],
   "source": [
    "<h2>Quiz 7 : Membuat Function dengan Multiple arguments</h2>\n",
    "\n",
    "Buatlah suatu fungsi untuk melakukan penggabungan antara dua list"
   ]
  }
 ],
 "metadata": {
  "kernelspec": {
   "display_name": "Python 3",
   "language": "python",
   "name": "python3"
  },
  "language_info": {
   "codemirror_mode": {
    "name": "ipython",
    "version": 3
   },
   "file_extension": ".py",
   "mimetype": "text/x-python",
   "name": "python",
   "nbconvert_exporter": "python",
   "pygments_lexer": "ipython3",
   "version": "3.7.6"
  }
 },
 "nbformat": 4,
 "nbformat_minor": 4
}
